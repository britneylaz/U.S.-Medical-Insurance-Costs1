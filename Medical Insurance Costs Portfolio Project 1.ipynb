{
 "cells": [
  {
   "cell_type": "code",
   "execution_count": 744,
   "id": "e30d7c06",
   "metadata": {},
   "outputs": [],
   "source": [
    "import csv"
   ]
  },
  {
   "cell_type": "code",
   "execution_count": 723,
   "id": "a67e345b",
   "metadata": {},
   "outputs": [],
   "source": [
    "import pandas as pd"
   ]
  },
  {
   "cell_type": "code",
   "execution_count": 724,
   "id": "c46511d7",
   "metadata": {},
   "outputs": [
    {
     "data": {
      "text/html": [
       "<div>\n",
       "<style scoped>\n",
       "    .dataframe tbody tr th:only-of-type {\n",
       "        vertical-align: middle;\n",
       "    }\n",
       "\n",
       "    .dataframe tbody tr th {\n",
       "        vertical-align: top;\n",
       "    }\n",
       "\n",
       "    .dataframe thead th {\n",
       "        text-align: right;\n",
       "    }\n",
       "</style>\n",
       "<table border=\"1\" class=\"dataframe\">\n",
       "  <thead>\n",
       "    <tr style=\"text-align: right;\">\n",
       "      <th></th>\n",
       "      <th>age</th>\n",
       "      <th>sex</th>\n",
       "      <th>bmi</th>\n",
       "      <th>children</th>\n",
       "      <th>smoker</th>\n",
       "      <th>region</th>\n",
       "      <th>charges</th>\n",
       "    </tr>\n",
       "  </thead>\n",
       "  <tbody>\n",
       "    <tr>\n",
       "      <th>0</th>\n",
       "      <td>19</td>\n",
       "      <td>female</td>\n",
       "      <td>27.900</td>\n",
       "      <td>0</td>\n",
       "      <td>yes</td>\n",
       "      <td>southwest</td>\n",
       "      <td>16884.92400</td>\n",
       "    </tr>\n",
       "    <tr>\n",
       "      <th>1</th>\n",
       "      <td>18</td>\n",
       "      <td>male</td>\n",
       "      <td>33.770</td>\n",
       "      <td>1</td>\n",
       "      <td>no</td>\n",
       "      <td>southeast</td>\n",
       "      <td>1725.55230</td>\n",
       "    </tr>\n",
       "    <tr>\n",
       "      <th>2</th>\n",
       "      <td>28</td>\n",
       "      <td>male</td>\n",
       "      <td>33.000</td>\n",
       "      <td>3</td>\n",
       "      <td>no</td>\n",
       "      <td>southeast</td>\n",
       "      <td>4449.46200</td>\n",
       "    </tr>\n",
       "    <tr>\n",
       "      <th>3</th>\n",
       "      <td>33</td>\n",
       "      <td>male</td>\n",
       "      <td>22.705</td>\n",
       "      <td>0</td>\n",
       "      <td>no</td>\n",
       "      <td>northwest</td>\n",
       "      <td>21984.47061</td>\n",
       "    </tr>\n",
       "    <tr>\n",
       "      <th>4</th>\n",
       "      <td>32</td>\n",
       "      <td>male</td>\n",
       "      <td>28.880</td>\n",
       "      <td>0</td>\n",
       "      <td>no</td>\n",
       "      <td>northwest</td>\n",
       "      <td>3866.85520</td>\n",
       "    </tr>\n",
       "  </tbody>\n",
       "</table>\n",
       "</div>"
      ],
      "text/plain": [
       "   age     sex     bmi  children smoker     region      charges\n",
       "0   19  female  27.900         0    yes  southwest  16884.92400\n",
       "1   18    male  33.770         1     no  southeast   1725.55230\n",
       "2   28    male  33.000         3     no  southeast   4449.46200\n",
       "3   33    male  22.705         0     no  northwest  21984.47061\n",
       "4   32    male  28.880         0     no  northwest   3866.85520"
      ]
     },
     "execution_count": 724,
     "metadata": {},
     "output_type": "execute_result"
    }
   ],
   "source": [
    "meddata = pd.read_csv('insurance.csv')\n",
    "meddata.head()"
   ]
  },
  {
   "cell_type": "code",
   "execution_count": 725,
   "id": "9c6819ff",
   "metadata": {},
   "outputs": [
    {
     "name": "stdout",
     "output_type": "stream",
     "text": [
      "<class 'pandas.core.frame.DataFrame'>\n",
      "RangeIndex: 1338 entries, 0 to 1337\n",
      "Data columns (total 7 columns):\n",
      " #   Column    Non-Null Count  Dtype  \n",
      "---  ------    --------------  -----  \n",
      " 0   age       1338 non-null   int64  \n",
      " 1   sex       1338 non-null   object \n",
      " 2   bmi       1338 non-null   float64\n",
      " 3   children  1338 non-null   int64  \n",
      " 4   smoker    1338 non-null   object \n",
      " 5   region    1338 non-null   object \n",
      " 6   charges   1338 non-null   float64\n",
      "dtypes: float64(2), int64(2), object(3)\n",
      "memory usage: 73.3+ KB\n"
     ]
    }
   ],
   "source": [
    "meddata.info()"
   ]
  },
  {
   "cell_type": "code",
   "execution_count": 726,
   "id": "0fe9e838",
   "metadata": {},
   "outputs": [
    {
     "data": {
      "text/html": [
       "<div>\n",
       "<style scoped>\n",
       "    .dataframe tbody tr th:only-of-type {\n",
       "        vertical-align: middle;\n",
       "    }\n",
       "\n",
       "    .dataframe tbody tr th {\n",
       "        vertical-align: top;\n",
       "    }\n",
       "\n",
       "    .dataframe thead th {\n",
       "        text-align: right;\n",
       "    }\n",
       "</style>\n",
       "<table border=\"1\" class=\"dataframe\">\n",
       "  <thead>\n",
       "    <tr style=\"text-align: right;\">\n",
       "      <th></th>\n",
       "      <th>age</th>\n",
       "      <th>bmi</th>\n",
       "      <th>children</th>\n",
       "      <th>charges</th>\n",
       "    </tr>\n",
       "  </thead>\n",
       "  <tbody>\n",
       "    <tr>\n",
       "      <th>count</th>\n",
       "      <td>1338.000000</td>\n",
       "      <td>1338.000000</td>\n",
       "      <td>1338.000000</td>\n",
       "      <td>1338.000000</td>\n",
       "    </tr>\n",
       "    <tr>\n",
       "      <th>mean</th>\n",
       "      <td>39.207025</td>\n",
       "      <td>30.663397</td>\n",
       "      <td>1.094918</td>\n",
       "      <td>13270.422265</td>\n",
       "    </tr>\n",
       "    <tr>\n",
       "      <th>std</th>\n",
       "      <td>14.049960</td>\n",
       "      <td>6.098187</td>\n",
       "      <td>1.205493</td>\n",
       "      <td>12110.011237</td>\n",
       "    </tr>\n",
       "    <tr>\n",
       "      <th>min</th>\n",
       "      <td>18.000000</td>\n",
       "      <td>15.960000</td>\n",
       "      <td>0.000000</td>\n",
       "      <td>1121.873900</td>\n",
       "    </tr>\n",
       "    <tr>\n",
       "      <th>25%</th>\n",
       "      <td>27.000000</td>\n",
       "      <td>26.296250</td>\n",
       "      <td>0.000000</td>\n",
       "      <td>4740.287150</td>\n",
       "    </tr>\n",
       "    <tr>\n",
       "      <th>50%</th>\n",
       "      <td>39.000000</td>\n",
       "      <td>30.400000</td>\n",
       "      <td>1.000000</td>\n",
       "      <td>9382.033000</td>\n",
       "    </tr>\n",
       "    <tr>\n",
       "      <th>75%</th>\n",
       "      <td>51.000000</td>\n",
       "      <td>34.693750</td>\n",
       "      <td>2.000000</td>\n",
       "      <td>16639.912515</td>\n",
       "    </tr>\n",
       "    <tr>\n",
       "      <th>max</th>\n",
       "      <td>64.000000</td>\n",
       "      <td>53.130000</td>\n",
       "      <td>5.000000</td>\n",
       "      <td>63770.428010</td>\n",
       "    </tr>\n",
       "  </tbody>\n",
       "</table>\n",
       "</div>"
      ],
      "text/plain": [
       "               age          bmi     children       charges\n",
       "count  1338.000000  1338.000000  1338.000000   1338.000000\n",
       "mean     39.207025    30.663397     1.094918  13270.422265\n",
       "std      14.049960     6.098187     1.205493  12110.011237\n",
       "min      18.000000    15.960000     0.000000   1121.873900\n",
       "25%      27.000000    26.296250     0.000000   4740.287150\n",
       "50%      39.000000    30.400000     1.000000   9382.033000\n",
       "75%      51.000000    34.693750     2.000000  16639.912515\n",
       "max      64.000000    53.130000     5.000000  63770.428010"
      ]
     },
     "execution_count": 726,
     "metadata": {},
     "output_type": "execute_result"
    }
   ],
   "source": [
    "meddata.describe()"
   ]
  },
  {
   "cell_type": "code",
   "execution_count": 727,
   "id": "640db428",
   "metadata": {},
   "outputs": [],
   "source": [
    "age = []\n",
    "sex = []\n",
    "bmi = []\n",
    "children = []\n",
    "smoker = []\n",
    "region = []\n",
    "charges = []"
   ]
  },
  {
   "cell_type": "code",
   "execution_count": 728,
   "id": "f14d9a70",
   "metadata": {},
   "outputs": [],
   "source": [
    "def load_info(file_name):\n",
    "    with open('insurance.csv','r') as insurance_file:\n",
    "        reader = csv.DictReader(insurance_file)     \n",
    "        for row in reader:\n",
    "            age.append(row['age'])\n",
    "            sex.append(row['sex'])\n",
    "            bmi.append(row['bmi'])\n",
    "            children.append(row['children'])\n",
    "            smoker.append(row['smoker'])\n",
    "            region.append(row['region'])\n",
    "            charges.append(row['charges'])"
   ]
  },
  {
   "cell_type": "code",
   "execution_count": 729,
   "id": "c5493323",
   "metadata": {},
   "outputs": [],
   "source": [
    "load_info('insurance.csv') "
   ]
  },
  {
   "cell_type": "code",
   "execution_count": 771,
   "id": "e7e19748",
   "metadata": {},
   "outputs": [],
   "source": [
    "class PatientInfo:\n",
    "    \n",
    "    def __init__(self,age,sex,bmi,numofchildren,region,smoker,charges):\n",
    "        self.age = age\n",
    "        self.sex = sex\n",
    "        self.bmi = bmi\n",
    "        self.numofchildren = numofchildren\n",
    "        self.region = region\n",
    "        self.smoker = smoker\n",
    "        self.charges = charges\n",
    "    \n",
    "    #analyze the average insurance costs\n",
    "    \n",
    "    def average_charges(self):\n",
    "        total_charges = 0\n",
    "        for charge in self.charges:\n",
    "            total_charges += float(charge)\n",
    "        return (\"Average Patient Charge: \" + str(round(total_charges/len(self.charges), 2)))   \n",
    "    \n",
    "    #analyze the average age of patients\n",
    "    def average_ages(self):\n",
    "        total_age = 0\n",
    "        for age in self.age:\n",
    "            total_age += int(age)\n",
    "        return (\"Average Patient Age: \" + str(round(total_age/len(self.age), 2)) + \" years\")\n",
    "    \n",
    "    #analyze the amount of males and females\n",
    "    def analyze_sexes(self):\n",
    "        m = 0\n",
    "        f = 0\n",
    "        for sex in self.sex:\n",
    "            if sex == 'male':\n",
    "                m += 1\n",
    "            elif sex == 'female':\n",
    "                f += 1\n",
    "        return (\"There are \" + str(f) + \" females and \" + str(m) + \" males.\")\n",
    "    \n",
    "    #find where the majority of patients are from\n",
    "    def where_majority_from(self):\n",
    "        areas_dict = dict()\n",
    "        areas_dict[\"Southwest\"] = self.region.count(\"southwest\")\n",
    "        areas_dict[\"Northwest\"] = self.region.count(\"northwest\")\n",
    "        areas_dict[\"Southeast\"] = self.region.count(\"southeast\")\n",
    "        areas_dict[\"Northeast\"] = self.region.count(\"northeast\")\n",
    "        majority = max(areas_dict.values())\n",
    "        for area, num_people in areas_dict.items():\n",
    "            if num_people == majority:\n",
    "                print(\"The majority of individuals are from {}. {} people on average.\".format(area, num_people))\n",
    "        print(\"Distribution in other regions:\", + str(areas_dict))\n",
    "              \n",
    "    #find relation between costs and age\n",
    "    #find relation between cost and sex\n",
    "    #find relation between cost and region\n",
    "    \n",
    "    def create_dictionary(self):\n",
    "        self.patients_dictionary = {}\n",
    "        self.patients_dictionary[\"age\"] = [int(age) for age in self.age]\n",
    "        self.patients_dictionary[\"sex\"] = self.sex\n",
    "        self.patients_dictionary[\"bmi\"] = self.bmi\n",
    "        self.patients_dictionary[\"children\"] = self.children\n",
    "        self.patients_dictionary[\"smoker\"] = self.smoker\n",
    "        self.patients_dictionary[\"region\"] = self.region\n",
    "        self.patients_dictionary[\"charges\"] = self.charges\n",
    "        \n",
    "        return self.patients_dictionary"
   ]
  },
  {
   "cell_type": "code",
   "execution_count": 737,
   "id": "76df0dd8",
   "metadata": {},
   "outputs": [],
   "source": [
    "patient_info = PatientInfo(age, sex, bmi,children, smoker, region,charges)"
   ]
  },
  {
   "cell_type": "code",
   "execution_count": 738,
   "id": "d682dc36",
   "metadata": {},
   "outputs": [
    {
     "data": {
      "text/plain": [
       "'Average Patient Charge: 13270.42'"
      ]
     },
     "execution_count": 738,
     "metadata": {},
     "output_type": "execute_result"
    }
   ],
   "source": [
    "patient_info.average_charges()"
   ]
  },
  {
   "cell_type": "code",
   "execution_count": 739,
   "id": "c38d628f",
   "metadata": {},
   "outputs": [
    {
     "data": {
      "text/plain": [
       "'Average Patient Age: 39.21 years'"
      ]
     },
     "execution_count": 739,
     "metadata": {},
     "output_type": "execute_result"
    }
   ],
   "source": [
    "patient_info.average_ages()"
   ]
  },
  {
   "cell_type": "code",
   "execution_count": 740,
   "id": "b7fb4a06",
   "metadata": {},
   "outputs": [
    {
     "data": {
      "text/plain": [
       "'There are 662 females and 676 males.'"
      ]
     },
     "execution_count": 740,
     "metadata": {},
     "output_type": "execute_result"
    }
   ],
   "source": [
    "patient_info.analyze_sexes()"
   ]
  },
  {
   "cell_type": "code",
   "execution_count": 768,
   "id": "d6918d2b",
   "metadata": {},
   "outputs": [
    {
     "name": "stdout",
     "output_type": "stream",
     "text": [
      "The majority of individuals are from Southwest. 0 people on average.\n",
      "The majority of individuals are from Northwest. 0 people on average.\n",
      "The majority of individuals are from Southeast. 0 people on average.\n",
      "The majority of individuals are from Northeast. 0 people on average.\n",
      "Distribution in other regions: {'Southwest': 0, 'Northwest': 0, 'Southeast': 0, 'Northeast': 0}\n"
     ]
    }
   ],
   "source": [
    "patient_info.where_majority_from()"
   ]
  },
  {
   "cell_type": "code",
   "execution_count": null,
   "id": "eeab7a8f",
   "metadata": {},
   "outputs": [],
   "source": []
  }
 ],
 "metadata": {
  "kernelspec": {
   "display_name": "Python 3 (ipykernel)",
   "language": "python",
   "name": "python3"
  },
  "language_info": {
   "codemirror_mode": {
    "name": "ipython",
    "version": 3
   },
   "file_extension": ".py",
   "mimetype": "text/x-python",
   "name": "python",
   "nbconvert_exporter": "python",
   "pygments_lexer": "ipython3",
   "version": "3.9.7"
  }
 },
 "nbformat": 4,
 "nbformat_minor": 5
}
